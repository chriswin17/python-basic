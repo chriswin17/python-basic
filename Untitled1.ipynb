{
  "nbformat": 4,
  "nbformat_minor": 0,
  "metadata": {
    "colab": {
      "provenance": [],
      "authorship_tag": "ABX9TyM7NrPG6weUIM9iTxU6IHOG",
      "include_colab_link": true
    },
    "kernelspec": {
      "name": "python3",
      "display_name": "Python 3"
    },
    "language_info": {
      "name": "python"
    }
  },
  "cells": [
    {
      "cell_type": "markdown",
      "metadata": {
        "id": "view-in-github",
        "colab_type": "text"
      },
      "source": [
        "<a href=\"https://colab.research.google.com/github/chriswin17/python-basic/blob/main/Untitled1.ipynb\" target=\"_parent\"><img src=\"https://colab.research.google.com/assets/colab-badge.svg\" alt=\"Open In Colab\"/></a>"
      ]
    },
    {
      "cell_type": "code",
      "execution_count": null,
      "metadata": {
        "colab": {
          "base_uri": "https://localhost:8080/"
        },
        "id": "TEEntQk0vm-W",
        "outputId": "f0cb4ebd-efff-4320-bce7-2575b6925b21"
      },
      "outputs": [
        {
          "output_type": "stream",
          "name": "stdout",
          "text": [
            "enter the salary 260000\n",
            "You're Taxable\n",
            "26000.0\n"
          ]
        }
      ],
      "source": [
        "salary= int(input(\"enter the salary \"))\n",
        "if salary<250000:\n",
        "  print(\"You're not Taxable\")\n",
        "if salary>=250000:\n",
        "  print(\"You're Taxable\")\n",
        "  print(salary*10/100) \n"
      ]
    },
    {
      "cell_type": "code",
      "source": [
        "salary=int(input())\n",
        "if salary<250000:\n",
        "  print(\"No Tax\")\n",
        "if salary>250000 and salary<500000:\n",
        "  print(\"You're Taxable\",(salary-250000)/10)\n",
        "if salary>500000 and salary<750000:\n",
        "  print(\"You're Taxable\",250000/10+(salary-500000)*20/100)\n",
        "if salary>750000:\n",
        "  print(\"You're Taxable\",(250000)*10/100+(250000*20/100)+(salary-750000)*30/100)\n",
        "if 1000000<salary:\n",
        "  print(\"You're Taxable\")\n",
        "  print((250000)*(10/100)+(250000)*(20/100)+(925000000)*(30/100)+(10000000-salary)*(32/100))"
      ],
      "metadata": {
        "colab": {
          "base_uri": "https://localhost:8080/"
        },
        "id": "T-17AE8Zxl0Z",
        "outputId": "fb8944a6-8a75-426f-c273-7d06799296c7"
      },
      "execution_count": 27,
      "outputs": [
        {
          "output_type": "stream",
          "name": "stdout",
          "text": [
            "600000\n",
            "You're Taxable 45000.0\n"
          ]
        }
      ]
    },
    {
      "cell_type": "code",
      "source": [],
      "metadata": {
        "id": "7Jkdyg775k0B"
      },
      "execution_count": 27,
      "outputs": []
    }
  ]
}